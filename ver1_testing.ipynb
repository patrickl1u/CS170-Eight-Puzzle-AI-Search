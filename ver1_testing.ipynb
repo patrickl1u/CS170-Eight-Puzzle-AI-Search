{
 "cells": [
  {
   "cell_type": "code",
   "execution_count": 5,
   "id": "cc9364b1-ddd9-4117-8928-bcea17c4a4b8",
   "metadata": {
    "tags": []
   },
   "outputs": [],
   "source": [
    "import numpy as np\n",
    "import math\n",
    "from copy import copy\n",
    "from queue import PriorityQueue"
   ]
  },
  {
   "cell_type": "code",
   "execution_count": null,
   "id": "7e4982e1-6f2b-4dad-8c65-d38520538000",
   "metadata": {
    "tags": []
   },
   "outputs": [],
   "source": [
    "from ver1_testing import gameBoard\n",
    "from ver1_testing import solve"
   ]
  },
  {
   "cell_type": "code",
   "execution_count": 7,
   "id": "8eaedd5e-afca-4582-b3ee-bee8bbdf9c06",
   "metadata": {
    "tags": []
   },
   "outputs": [],
   "source": [
    "game_start_state = np.array(np.mat('8 7 1; 6 0 2; 5 4 3'))"
   ]
  },
  {
   "cell_type": "code",
   "execution_count": 8,
   "id": "066b2747-2041-4b27-835c-88eceddbc36b",
   "metadata": {
    "tags": []
   },
   "outputs": [
    {
     "name": "stdout",
     "output_type": "stream",
     "text": [
      "found!\n",
      "soln found!\n",
      "nodes expanded: 29842\n",
      "queue max: 15350\n",
      "algo: misplaced\n",
      "CPU times: user 5.25 s, sys: 20 ms, total: 5.27 s\n",
      "Wall time: 5.24 s\n"
     ]
    }
   ],
   "source": [
    "%%time\n",
    "board = gameBoard(game_start_state)\n",
    "\n",
    "# ucs, misplaced, or euclidean\n",
    "algorithm=\"misplaced\"\n",
    "lastmove, stats = solve(board, algorithm)\n",
    "\n",
    "if lastmove is False:\n",
    "    print(\"no solution found!\")\n",
    "else:\n",
    "    print(\"soln found!\")\n",
    "    # lastmove.print_path()\n",
    "print(\"nodes expanded: {}\\nqueue max: {}\".format(stats[0], stats[1]))\n",
    "print(\"algo: \" + algorithm)"
   ]
  },
  {
   "cell_type": "code",
   "execution_count": null,
   "id": "e7d957ff-e071-4980-bc11-f77173f81e9e",
   "metadata": {},
   "outputs": [],
   "source": []
  }
 ],
 "metadata": {
  "kernelspec": {
   "display_name": "Python [conda env:py3.9]",
   "language": "python",
   "name": "conda-env-py3.9-py"
  },
  "language_info": {
   "codemirror_mode": {
    "name": "ipython",
    "version": 3
   },
   "file_extension": ".py",
   "mimetype": "text/x-python",
   "name": "python",
   "nbconvert_exporter": "python",
   "pygments_lexer": "ipython3",
   "version": "3.9.13"
  }
 },
 "nbformat": 4,
 "nbformat_minor": 5
}
