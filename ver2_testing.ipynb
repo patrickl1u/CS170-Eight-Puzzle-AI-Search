{
 "cells": [
  {
   "cell_type": "code",
   "execution_count": 8,
   "id": "943e4ba9-86af-43d8-80e4-9b77e0db2854",
   "metadata": {
    "tags": []
   },
   "outputs": [],
   "source": [
    "import numpy as np\n",
    "import math\n",
    "from copy import copy\n",
    "from queue import PriorityQueue"
   ]
  },
  {
   "cell_type": "code",
   "execution_count": 9,
   "id": "6cd0b491-7636-4004-8cdc-9bb6aadcd412",
   "metadata": {
    "tags": []
   },
   "outputs": [],
   "source": [
    "from ver2_testing import gameBoard\n",
    "from ver2_testing import solve"
   ]
  },
  {
   "cell_type": "code",
   "execution_count": 10,
   "id": "4ed278fc-e290-4054-9165-602bce6d83b7",
   "metadata": {},
   "outputs": [],
   "source": [
    "game_start_state = np.array(np.mat('8 7 1; 6 0 2; 5 4 3'))"
   ]
  },
  {
   "cell_type": "code",
   "execution_count": 11,
   "id": "6ed6e5d5-3ba0-4cb0-a9c4-3dd76dc110b3",
   "metadata": {},
   "outputs": [
    {
     "name": "stdout",
     "output_type": "stream",
     "text": [
      "soln found!\n",
      "nodes expanded: 84288\n",
      "queue max: 32152\n",
      "algo: misplaced\n",
      "CPU times: user 38.2 s, sys: 1.06 s, total: 39.3 s\n",
      "Wall time: 38.1 s\n"
     ]
    }
   ],
   "source": [
    "%%time\n",
    "board = gameBoard(game_start_state)\n",
    "\n",
    "# ucs, misplaced, or euclidean\n",
    "algorithm=\"misplaced\"\n",
    "lastmove, stats = solve(board, algorithm)\n",
    "\n",
    "if lastmove is False:\n",
    "    print(\"no solution found!\")\n",
    "else:\n",
    "    print(\"soln found!\")\n",
    "    # lastmove.print_path()\n",
    "print(\"nodes expanded: {}\\nqueue max: {}\".format(stats[0], stats[1]))\n",
    "print(\"algo: \" + algorithm)"
   ]
  },
  {
   "cell_type": "code",
   "execution_count": null,
   "id": "e12a40d1-a118-48fe-a32f-40ca2c80bfe5",
   "metadata": {},
   "outputs": [],
   "source": []
  }
 ],
 "metadata": {
  "kernelspec": {
   "display_name": "Python [conda env:py3.9]",
   "language": "python",
   "name": "conda-env-py3.9-py"
  },
  "language_info": {
   "codemirror_mode": {
    "name": "ipython",
    "version": 3
   },
   "file_extension": ".py",
   "mimetype": "text/x-python",
   "name": "python",
   "nbconvert_exporter": "python",
   "pygments_lexer": "ipython3",
   "version": "3.9.13"
  }
 },
 "nbformat": 4,
 "nbformat_minor": 5
}
